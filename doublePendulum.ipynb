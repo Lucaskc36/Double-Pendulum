{
 "cells": [
  {
   "cell_type": "markdown",
   "metadata": {},
   "source": [
    "# **User input for initial conditions**\n",
    "\n",
    "User will be able to drop the pendulum from cursor position\n",
    "\n",
    "## **Boundary conditions**\n",
    "\n",
    "\n",
    "### **Outside the full length of the pendulum.**\n",
    "If the cursor is outside the full length of the pendulum the x position will take precedence\n",
    "\n",
    "\n"
   ]
  },
  {
   "cell_type": "markdown",
   "metadata": {},
   "source": [
    "## Runge-Kutta Method for 2x2 DE Systems\n",
    "[Runge-Kutta Method](doublePendulum.md#runge-kutta-method)\n",
    "\n",
    "- In terms of a simulation I would just consider $t_f$ "
   ]
  },
  {
   "cell_type": "code",
   "execution_count": null,
   "metadata": {},
   "outputs": [],
   "source": [
    "import numpy as np\n",
    "#Runge-Kutta 4th order method for a 2x2 system of ODEs\n",
    "    #Takes parameters f, x0, t0, tf, dt\n",
    "    #f: the function to be solved f(t,x,y)\n",
    "    #g: the function to be solved\n",
    "    #x0: the initial condition\n",
    "    #t0: the initial time\n",
    "    #tf: the final time\n",
    "    #dt: the time step\n",
    "    #Returns an array of the solution\n",
    "def RK422(f,g, x0, y0, t0, tf, dt):\n",
    "    t = np.arange(t0, tf, dt)\n",
    "    # Create an array to store the solution\n",
    "    n = len(t)\n",
    "    #np.zeros creates an array of zeros with length \n",
    "    x = np.zeros((n, len(x0)))\n",
    "    y = np.zeros((n,len(x0)))\n",
    "    x[0] = x0\n",
    "    y[0] = y0\n",
    "\n",
    "    for i in range(n-1):\n",
    "        #k1s\n",
    "        k1 = f(t[i], x[i], y[i])\n",
    "        m1 = g(t[i], x[i], y[i])\n",
    "        #k2s\n",
    "        k2 = f(t[i] + 0.5*dt, x[i] + 0.5*dt*k1, y[i] + 0.5*dt*m1)\n",
    "        m2 = g(t[i] + 0.5*dt, x[i] + 0.5*dt*k1, y[i] + 0.5*dt*m1)\n",
    "        #k3s\n",
    "        k3 = f(t[i] + 0.5*dt, x[i] + 0.5*dt*k2, y[i] + 0.5*dt*m2)\n",
    "        m3 = g(t[i] + 0.5*dt, x[i] + 0.5*dt*k2, y[i] + 0.5*dt*m2)\n",
    "        #k4s\n",
    "        k4 = f(t[i] + dt, x[i]+ dt * k3, y[i] + dt* m3)\n",
    "        m4 = g(t[i] + dt, x[i]+ dt * k3, y[i] + dt* m3)\n",
    "\n",
    "        #solution\n",
    "        x[i+1] = x[i] + dt/6*(k1 + 2*k2 + 2*k3 + k4)\n",
    "        y[i+1] = y[i] + dt/6*(m1 + 2*m2 + 2*m3 + m4)\n",
    "\n",
    "    return x,y"
   ]
  },
  {
   "cell_type": "markdown",
   "metadata": {},
   "source": [
    "Declaring state vector $\n",
    "\\varPhi = \n",
    "\\left (\n",
    "\\begin{matrix} \n",
    "    \\varphi_1\\\\\n",
    "    \\varphi_2\n",
    "\\end{matrix}\n",
    "\\right )\n",
    "$. "
   ]
  },
  {
   "cell_type": "markdown",
   "metadata": {},
   "source": [
    "state = vector "
   ]
  },
  {
   "cell_type": "code",
   "execution_count": null,
   "metadata": {},
   "outputs": [],
   "source": []
  }
 ],
 "metadata": {
  "kernelspec": {
   "display_name": ".venv",
   "language": "python",
   "name": "python3"
  },
  "language_info": {
   "codemirror_mode": {
    "name": "ipython",
    "version": 3
   },
   "file_extension": ".py",
   "mimetype": "text/x-python",
   "name": "python",
   "nbconvert_exporter": "python",
   "pygments_lexer": "ipython3",
   "version": "3.12.8"
  }
 },
 "nbformat": 4,
 "nbformat_minor": 2
}
